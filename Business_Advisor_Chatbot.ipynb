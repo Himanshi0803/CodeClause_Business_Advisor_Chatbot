{
 "cells": [
  {
   "cell_type": "code",
   "execution_count": 11,
   "id": "877b60af",
   "metadata": {},
   "outputs": [
    {
     "name": "stdout",
     "output_type": "stream",
     "text": [
      "Requirement already satisfied: nltk in c:\\users\\dell\\anaconda3\\lib\\site-packages (3.7)\n",
      "Requirement already satisfied: regex>=2021.8.3 in c:\\users\\dell\\anaconda3\\lib\\site-packages (from nltk) (2022.7.9)\n",
      "Requirement already satisfied: tqdm in c:\\users\\dell\\anaconda3\\lib\\site-packages (from nltk) (4.64.1)\n",
      "Requirement already satisfied: click in c:\\users\\dell\\anaconda3\\lib\\site-packages (from nltk) (8.0.4)\n",
      "Requirement already satisfied: joblib in c:\\users\\dell\\anaconda3\\lib\\site-packages (from nltk) (1.1.1)\n",
      "Requirement already satisfied: colorama in c:\\users\\dell\\anaconda3\\lib\\site-packages (from click->nltk) (0.4.6)\n",
      "Note: you may need to restart the kernel to use updated packages.\n"
     ]
    }
   ],
   "source": [
    "pip install nltk\n"
   ]
  },
  {
   "cell_type": "markdown",
   "id": "a2a5ab49",
   "metadata": {},
   "source": [
    "### importing required libraries"
   ]
  },
  {
   "cell_type": "code",
   "execution_count": 12,
   "id": "f5ed259d",
   "metadata": {},
   "outputs": [],
   "source": [
    "import nltk\n",
    "import re\n",
    "import random\n",
    "from nltk.chat.util import Chat, reflections\n"
   ]
  },
  {
   "cell_type": "markdown",
   "id": "fe6d819c",
   "metadata": {},
   "source": [
    "### Patterns and responses for the chatbot"
   ]
  },
  {
   "cell_type": "code",
   "execution_count": 13,
   "id": "9acc9d67",
   "metadata": {},
   "outputs": [],
   "source": [
    "patterns = [\n",
    "    (r\"hello|hi|hey\", [\"Hello!\", \"Hi there!\", \"Hey!\"]),\n",
    "    (r\"what is your name?\", [\"You can call me ChatBot.\", \"I'm ChatBot!\", \"My name is ChatBot.\"]),\n",
    "    (r\"tell me about your business services?\", [\"As a business advisor, I can help you with market research, financial planning, and business strategy.\", \"I provide services in market analysis, financial consulting, and business planning.\"]),\n",
    "    (r\"how can you assist with financial planning?\", [\"I can assist you in creating financial projections, identifying funding sources, and optimizing your budget.\", \"Financial planning services include budget analysis, investment planning, and risk assessment.\"]),\n",
    "    (r\"how can you assist with financial planning?\", [\"I can assist you in creating financial projections, identifying funding sources, and optimizing your budget.\", \"Financial planning services include budget analysis, investment planning, and risk assessment.\"]),\n",
    "    (r\"how can I improve my business's online presence?\", [\"Improving your online presence involves optimizing your website for search engines, using social media marketing, and engaging with your audience through content marketing.\"]),\n",
    "    (r\"what are some effective marketing strategies for a small business?\", [\"For small businesses, cost-effective marketing strategies include local advertising, email marketing, collaborating with influencers, and leveraging online directories.\"]),\n",
    "    (r\"how do I conduct market research for my business?\", [\"Conducting market research involves identifying your target audience, analyzing competitors, surveying potential customers, and using data to make informed business decisions.\"]),\n",
    "    (r\"what factors should I consider when pricing my products?\", [\"When pricing products, consider production costs, competitor prices, perceived value, and pricing strategies to maximize profitability while meeting customer expectations.\"]),\n",
    "    (r\"how can I protect my business idea or intellectual property?\", [\"To protect your business idea or intellectual property, consider patents, trademarks, copyrights, and non-disclosure agreements (NDAs) to safeguard your innovations.\"]),\n",
    "    (r\"what are some effective ways to market a new product?\", [\"Effective product marketing involves creating a unique value proposition, conducting targeted marketing campaigns, offering promotions, and seeking feedback from early adopters.\"]),\n",
    "    (r\"how can I improve customer satisfaction?\", [\"Improving customer satisfaction involves active listening to customer feedback, resolving issues promptly, offering personalized experiences, and consistently delivering high-quality products or services.\"]),\n",
    "    (r\"what are the key components of a successful business strategy?\", [\"A successful business strategy includes a clear mission, SMART goals, a competitive analysis, a marketing plan, financial projections, and a roadmap for growth and adaptation.\"]),\n",
    "    (r\"how can I use social media to grow my business?\", [\"To grow your business on social media, define your target audience, create engaging content, interact with followers, run targeted ads, and analyze performance metrics.\"])]\n",
    "\n",
    "\n"
   ]
  },
  {
   "cell_type": "markdown",
   "id": "7117d227",
   "metadata": {},
   "source": [
    "### default responses in case the bot doesn't understand the user input"
   ]
  },
  {
   "cell_type": "code",
   "execution_count": 14,
   "id": "fb289113",
   "metadata": {},
   "outputs": [],
   "source": [
    "default_responses = [\n",
    "    \"I'm sorry, but I need more information to provide a meaningful response.\",\n",
    "    \"It seems I'm having trouble understanding your question. Can you please provide more context?\",\n",
    "    \"I appreciate your question. However, I might need more data to give you a satisfactory answer.\",\n",
    "    \"I'm constantly learning, and this question exceeds my current capabilities. Can we discuss something else?\",\n",
    "    \"I'm afraid I cannot assist with that particular topic. Let's focus on business-related inquiries.\",\n",
    "    \"I apologize, but I'm not equipped to answer that at the moment.\",\n",
    "    \"Your question is intriguing, but it's beyond my expertise as a business advisor chatbot.\",\n",
    "    \"I'm a business advisor chatbot, and while I'm good at what I do, I have limitations. Can I help with something else?\",\n",
    "]\n"
   ]
  },
  {
   "cell_type": "markdown",
   "id": "82213131",
   "metadata": {},
   "source": [
    "### CHATBOT DEF"
   ]
  },
  {
   "cell_type": "code",
   "execution_count": 15,
   "id": "e9d050a9",
   "metadata": {},
   "outputs": [
    {
     "name": "stdout",
     "output_type": "stream",
     "text": [
      "ChatBot: Hi there! How can I help you today?\n",
      "You: HI\n",
      "ChatBot: Hi there!\n",
      "You: WHAT IS YOUR NAME\n",
      "ChatBot: I'm ChatBot!\n",
      "You: how can I protect my business idea or intellectual property?\n",
      "ChatBot: To protect your business idea or intellectual property, consider patents, trademarks, copyrights, and non-disclosure agreements (NDAs) to safeguard your innovations.\n",
      "You: BYE\n",
      "ChatBot: Goodbye! Have a great day!\n"
     ]
    }
   ],
   "source": [
    "def chatbot():\n",
    "    print(\"ChatBot: Hi there! How can I help you today?\")\n",
    "    chat = Chat(patterns, reflections)\n",
    "    while True:\n",
    "        user_input = input(\"You: \")\n",
    "        if user_input.lower() == \"bye\":\n",
    "            print(\"ChatBot: Goodbye! Have a great day!\")\n",
    "            break\n",
    "        response = chat.respond(user_input)\n",
    "        if not response:\n",
    "            response = random.choice(default_responses)\n",
    "        print(\"ChatBot:\", response)\n",
    "\n",
    "if __name__ == \"__main__\":\n",
    "    chatbot()"
   ]
  },
  {
   "cell_type": "code",
   "execution_count": null,
   "id": "5a8c63d6",
   "metadata": {},
   "outputs": [],
   "source": []
  },
  {
   "cell_type": "code",
   "execution_count": null,
   "id": "3122853b",
   "metadata": {},
   "outputs": [],
   "source": []
  },
  {
   "cell_type": "code",
   "execution_count": null,
   "id": "d35f176f",
   "metadata": {},
   "outputs": [],
   "source": []
  }
 ],
 "metadata": {
  "kernelspec": {
   "display_name": "Python 3 (ipykernel)",
   "language": "python",
   "name": "python3"
  },
  "language_info": {
   "codemirror_mode": {
    "name": "ipython",
    "version": 3
   },
   "file_extension": ".py",
   "mimetype": "text/x-python",
   "name": "python",
   "nbconvert_exporter": "python",
   "pygments_lexer": "ipython3",
   "version": "3.10.9"
  }
 },
 "nbformat": 4,
 "nbformat_minor": 5
}
